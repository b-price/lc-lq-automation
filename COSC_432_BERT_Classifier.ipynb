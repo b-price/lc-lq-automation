{
 "cells": [
  {
   "cell_type": "markdown",
   "metadata": {},
   "source": [
    "Importing the Bert tokenizer and showing an example embedding generated from it"
   ]
  },
  {
   "cell_type": "code",
   "execution_count": 1,
   "metadata": {},
   "outputs": [
    {
     "name": "stderr",
     "output_type": "stream",
     "text": [
      "/Users/ben/miniconda3/lib/python3.11/site-packages/tqdm/auto.py:21: TqdmWarning: IProgress not found. Please update jupyter and ipywidgets. See https://ipywidgets.readthedocs.io/en/stable/user_install.html\n",
      "  from .autonotebook import tqdm as notebook_tqdm\n"
     ]
    },
    {
     "name": "stdout",
     "output_type": "stream",
     "text": [
      "tensor([[  101,   146,  1209,  2824,  2508, 26173,  3568,   102,     0,     0]])\n",
      "tensor([[0, 0, 0, 0, 0, 0, 0, 0, 0, 0]])\n",
      "tensor([[1, 1, 1, 1, 1, 1, 1, 1, 0, 0]])\n"
     ]
    }
   ],
   "source": [
    "from transformers import BertTokenizer\n",
    "tokenizer = BertTokenizer.from_pretrained('bert-base-cased')\n",
    "\n",
    "example_text = 'I will watch Memento tonight'\n",
    "bert_input = tokenizer(example_text, padding='max_length', max_length = 10, truncation=True, return_tensors=\"pt\")\n",
    "\n",
    "\n",
    "print(bert_input['input_ids'])\n",
    "print(bert_input['token_type_ids'])\n",
    "print(bert_input['attention_mask'])"
   ]
  },
  {
   "cell_type": "markdown",
   "metadata": {},
   "source": [
    "Sets up the classification labels and data loader for parsing dataset"
   ]
  },
  {
   "cell_type": "code",
   "execution_count": 2,
   "metadata": {},
   "outputs": [],
   "source": [
    "import torch\n",
    "import numpy as np\n",
    "from transformers import BertTokenizer\n",
    "\n",
    "tokenizer = BertTokenizer.from_pretrained('bert-base-cased')\n",
    "labels = {'RDC':0,\n",
    "          'AMB':1,\n",
    "          }\n",
    "\n",
    "\n",
    "class Dataset(torch.utils.data.Dataset):\n",
    "\n",
    "    def __init__(self, df):\n",
    "\n",
    "        self.labels = [labels[label] for label in df['LQ Code']]\n",
    "        self.texts = [tokenizer(text, \n",
    "                               padding='max_length', max_length = 512, truncation=True,\n",
    "                                return_tensors=\"pt\") for text in df['Excerpt']]\n",
    "\n",
    "    def classes(self):\n",
    "        return self.labels\n",
    "\n",
    "    def __len__(self):\n",
    "        return len(self.labels)\n",
    "\n",
    "    def get_batch_labels(self, idx):\n",
    "        # Fetch a batch of labels\n",
    "        return np.array(self.labels[idx])\n",
    "\n",
    "    def get_batch_texts(self, idx):\n",
    "        # Fetch a batch of inputs\n",
    "        return self.texts[idx]\n",
    "\n",
    "    def __getitem__(self, idx):\n",
    "\n",
    "        batch_texts = self.get_batch_texts(idx)\n",
    "        batch_y = self.get_batch_labels(idx)\n",
    "\n",
    "        return batch_texts, batch_y"
   ]
  },
  {
   "cell_type": "markdown",
   "metadata": {},
   "source": [
    "Imports the data used for training and validation into a dataframe named df_for_training"
   ]
  },
  {
   "cell_type": "code",
   "execution_count": 3,
   "metadata": {},
   "outputs": [
    {
     "name": "stdout",
     "output_type": "stream",
     "text": [
      "<class 'pandas.core.frame.DataFrame'>\n",
      "RangeIndex: 147 entries, 0 to 146\n",
      "Data columns (total 8 columns):\n",
      " #   Column   Non-Null Count  Dtype \n",
      "---  ------   --------------  ----- \n",
      " 0   ID       147 non-null    int64 \n",
      " 1   Excerpt  147 non-null    object\n",
      " 2   SY1      147 non-null    object\n",
      " 3   SY2      142 non-null    object\n",
      " 4   CO1      147 non-null    object\n",
      " 5   CO2      141 non-null    object\n",
      " 6   LQ Code  147 non-null    object\n",
      " 7   Comment  63 non-null     object\n",
      "dtypes: int64(1), object(7)\n",
      "memory usage: 9.3+ KB\n"
     ]
    }
   ],
   "source": [
    "import pandas as pd\n",
    "df_for_training = pd.read_csv('mixeddataset1.csv') # enter the path to the dataset used for training here\n",
    "df_for_training['Excerpt'] = df_for_training['Excerpt'].replace(\",\", \"\", regex=True)\n",
    "df_for_training.info()"
   ]
  },
  {
   "cell_type": "markdown",
   "metadata": {},
   "source": [
    "Imports the data used for testing into a dataframe named df_test"
   ]
  },
  {
   "cell_type": "code",
   "execution_count": 4,
   "metadata": {},
   "outputs": [
    {
     "name": "stdout",
     "output_type": "stream",
     "text": [
      "<class 'pandas.core.frame.DataFrame'>\n",
      "RangeIndex: 30 entries, 0 to 29\n",
      "Data columns (total 8 columns):\n",
      " #   Column   Non-Null Count  Dtype \n",
      "---  ------   --------------  ----- \n",
      " 0   ID       30 non-null     int64 \n",
      " 1   Excerpt  30 non-null     object\n",
      " 2   SY1      30 non-null     object\n",
      " 3   SY2      28 non-null     object\n",
      " 4   CO1      30 non-null     object\n",
      " 5   CO2      28 non-null     object\n",
      " 6   LQ Code  30 non-null     object\n",
      " 7   Comment  14 non-null     object\n",
      "dtypes: int64(1), object(7)\n",
      "memory usage: 2.0+ KB\n"
     ]
    }
   ],
   "source": [
    "df_test = pd.read_csv('mixeddataset2.csv') # enter the path to the dataset used for testing here\n",
    "df_test['Excerpt'] = df_test['Excerpt'].replace(\",\", \"\", regex=True)\n",
    "df_test.info()"
   ]
  },
  {
   "cell_type": "markdown",
   "metadata": {},
   "source": [
    "Removes duplicates from the df_for_training dataset that is within the df_test dataset"
   ]
  },
  {
   "cell_type": "code",
   "execution_count": 5,
   "metadata": {},
   "outputs": [
    {
     "name": "stdout",
     "output_type": "stream",
     "text": [
      "<class 'pandas.core.frame.DataFrame'>\n",
      "RangeIndex: 147 entries, 0 to 146\n",
      "Data columns (total 8 columns):\n",
      " #   Column   Non-Null Count  Dtype \n",
      "---  ------   --------------  ----- \n",
      " 0   ID       147 non-null    int64 \n",
      " 1   Excerpt  147 non-null    object\n",
      " 2   SY1      147 non-null    object\n",
      " 3   SY2      142 non-null    object\n",
      " 4   CO1      147 non-null    object\n",
      " 5   CO2      141 non-null    object\n",
      " 6   LQ Code  147 non-null    object\n",
      " 7   Comment  63 non-null     object\n",
      "dtypes: int64(1), object(7)\n",
      "memory usage: 9.3+ KB\n"
     ]
    }
   ],
   "source": [
    "df_for_training = df_for_training[~df_for_training['Excerpt'].isin(df_test['Excerpt'])]\n",
    "df_for_training.info()"
   ]
  },
  {
   "cell_type": "markdown",
   "metadata": {},
   "source": [
    "Splits the data used for training and validation into separate dataframes "
   ]
  },
  {
   "cell_type": "code",
   "execution_count": 6,
   "metadata": {},
   "outputs": [
    {
     "name": "stdout",
     "output_type": "stream",
     "text": [
      "117 15 30\n",
      "-----------------------df_train---------------------------\n",
      "<class 'pandas.core.frame.DataFrame'>\n",
      "Index: 117 entries, 125 to 59\n",
      "Data columns (total 8 columns):\n",
      " #   Column   Non-Null Count  Dtype \n",
      "---  ------   --------------  ----- \n",
      " 0   ID       117 non-null    int64 \n",
      " 1   Excerpt  117 non-null    object\n",
      " 2   SY1      117 non-null    object\n",
      " 3   SY2      113 non-null    object\n",
      " 4   CO1      117 non-null    object\n",
      " 5   CO2      112 non-null    object\n",
      " 6   LQ Code  117 non-null    object\n",
      " 7   Comment  47 non-null     object\n",
      "dtypes: int64(1), object(7)\n",
      "memory usage: 8.2+ KB\n"
     ]
    },
    {
     "name": "stderr",
     "output_type": "stream",
     "text": [
      "/Users/ben/miniconda3/lib/python3.11/site-packages/numpy/core/fromnumeric.py:59: FutureWarning: 'DataFrame.swapaxes' is deprecated and will be removed in a future version. Please use 'DataFrame.transpose' instead.\n",
      "  return bound(*args, **kwds)\n"
     ]
    },
    {
     "data": {
      "text/html": [
       "<div>\n",
       "<style scoped>\n",
       "    .dataframe tbody tr th:only-of-type {\n",
       "        vertical-align: middle;\n",
       "    }\n",
       "\n",
       "    .dataframe tbody tr th {\n",
       "        vertical-align: top;\n",
       "    }\n",
       "\n",
       "    .dataframe thead tr th {\n",
       "        text-align: left;\n",
       "    }\n",
       "\n",
       "    .dataframe thead tr:last-of-type th {\n",
       "        text-align: right;\n",
       "    }\n",
       "</style>\n",
       "<table border=\"1\" class=\"dataframe\">\n",
       "  <thead>\n",
       "    <tr>\n",
       "      <th></th>\n",
       "      <th colspan=\"8\" halign=\"left\">ID</th>\n",
       "    </tr>\n",
       "    <tr>\n",
       "      <th></th>\n",
       "      <th>count</th>\n",
       "      <th>mean</th>\n",
       "      <th>std</th>\n",
       "      <th>min</th>\n",
       "      <th>25%</th>\n",
       "      <th>50%</th>\n",
       "      <th>75%</th>\n",
       "      <th>max</th>\n",
       "    </tr>\n",
       "    <tr>\n",
       "      <th>LQ Code</th>\n",
       "      <th></th>\n",
       "      <th></th>\n",
       "      <th></th>\n",
       "      <th></th>\n",
       "      <th></th>\n",
       "      <th></th>\n",
       "      <th></th>\n",
       "      <th></th>\n",
       "    </tr>\n",
       "  </thead>\n",
       "  <tbody>\n",
       "    <tr>\n",
       "      <th>AMB</th>\n",
       "      <td>47.0</td>\n",
       "      <td>147.787234</td>\n",
       "      <td>17.657288</td>\n",
       "      <td>115.0</td>\n",
       "      <td>133.50</td>\n",
       "      <td>149.0</td>\n",
       "      <td>162.50</td>\n",
       "      <td>176.0</td>\n",
       "    </tr>\n",
       "    <tr>\n",
       "      <th>RDC</th>\n",
       "      <td>70.0</td>\n",
       "      <td>42.214286</td>\n",
       "      <td>24.752627</td>\n",
       "      <td>1.0</td>\n",
       "      <td>20.75</td>\n",
       "      <td>42.0</td>\n",
       "      <td>63.75</td>\n",
       "      <td>84.0</td>\n",
       "    </tr>\n",
       "  </tbody>\n",
       "</table>\n",
       "</div>"
      ],
      "text/plain": [
       "           ID                                                            \n",
       "        count        mean        std    min     25%    50%     75%    max\n",
       "LQ Code                                                                  \n",
       "AMB      47.0  147.787234  17.657288  115.0  133.50  149.0  162.50  176.0\n",
       "RDC      70.0   42.214286  24.752627    1.0   20.75   42.0   63.75   84.0"
      ]
     },
     "execution_count": 6,
     "metadata": {},
     "output_type": "execute_result"
    }
   ],
   "source": [
    "np.random.seed(112)\n",
    "df_train, df_val, df_test_not_used = np.split(df_for_training.sample(frac=1, random_state=42), \n",
    "                                     [int(.8*len(df_for_training)), int(.9*len(df_for_training))])\n",
    "\n",
    "print(len(df_train),len(df_val), len(df_test))\n",
    "print(\"-----------------------df_train---------------------------\")\n",
    "df_train.info()\n",
    "df_train.groupby('LQ Code').describe()"
   ]
  },
  {
   "cell_type": "code",
   "execution_count": 7,
   "metadata": {},
   "outputs": [
    {
     "name": "stdout",
     "output_type": "stream",
     "text": [
      "-----------------------df_val---------------------------\n",
      "<class 'pandas.core.frame.DataFrame'>\n",
      "Index: 15 entries, 91 to 1\n",
      "Data columns (total 8 columns):\n",
      " #   Column   Non-Null Count  Dtype \n",
      "---  ------   --------------  ----- \n",
      " 0   ID       15 non-null     int64 \n",
      " 1   Excerpt  15 non-null     object\n",
      " 2   SY1      15 non-null     object\n",
      " 3   SY2      14 non-null     object\n",
      " 4   CO1      15 non-null     object\n",
      " 5   CO2      14 non-null     object\n",
      " 6   LQ Code  15 non-null     object\n",
      " 7   Comment  6 non-null      object\n",
      "dtypes: int64(1), object(7)\n",
      "memory usage: 1.1+ KB\n"
     ]
    },
    {
     "data": {
      "text/html": [
       "<div>\n",
       "<style scoped>\n",
       "    .dataframe tbody tr th:only-of-type {\n",
       "        vertical-align: middle;\n",
       "    }\n",
       "\n",
       "    .dataframe tbody tr th {\n",
       "        vertical-align: top;\n",
       "    }\n",
       "\n",
       "    .dataframe thead tr th {\n",
       "        text-align: left;\n",
       "    }\n",
       "\n",
       "    .dataframe thead tr:last-of-type th {\n",
       "        text-align: right;\n",
       "    }\n",
       "</style>\n",
       "<table border=\"1\" class=\"dataframe\">\n",
       "  <thead>\n",
       "    <tr>\n",
       "      <th></th>\n",
       "      <th colspan=\"8\" halign=\"left\">ID</th>\n",
       "    </tr>\n",
       "    <tr>\n",
       "      <th></th>\n",
       "      <th>count</th>\n",
       "      <th>mean</th>\n",
       "      <th>std</th>\n",
       "      <th>min</th>\n",
       "      <th>25%</th>\n",
       "      <th>50%</th>\n",
       "      <th>75%</th>\n",
       "      <th>max</th>\n",
       "    </tr>\n",
       "    <tr>\n",
       "      <th>LQ Code</th>\n",
       "      <th></th>\n",
       "      <th></th>\n",
       "      <th></th>\n",
       "      <th></th>\n",
       "      <th></th>\n",
       "      <th></th>\n",
       "      <th></th>\n",
       "      <th></th>\n",
       "    </tr>\n",
       "  </thead>\n",
       "  <tbody>\n",
       "    <tr>\n",
       "      <th>AMB</th>\n",
       "      <td>6.0</td>\n",
       "      <td>140.000000</td>\n",
       "      <td>24.240462</td>\n",
       "      <td>119.0</td>\n",
       "      <td>121.25</td>\n",
       "      <td>130.0</td>\n",
       "      <td>160.5</td>\n",
       "      <td>172.0</td>\n",
       "    </tr>\n",
       "    <tr>\n",
       "      <th>RDC</th>\n",
       "      <td>9.0</td>\n",
       "      <td>42.111111</td>\n",
       "      <td>21.928546</td>\n",
       "      <td>2.0</td>\n",
       "      <td>33.00</td>\n",
       "      <td>42.0</td>\n",
       "      <td>58.0</td>\n",
       "      <td>76.0</td>\n",
       "    </tr>\n",
       "  </tbody>\n",
       "</table>\n",
       "</div>"
      ],
      "text/plain": [
       "           ID                                                           \n",
       "        count        mean        std    min     25%    50%    75%    max\n",
       "LQ Code                                                                 \n",
       "AMB       6.0  140.000000  24.240462  119.0  121.25  130.0  160.5  172.0\n",
       "RDC       9.0   42.111111  21.928546    2.0   33.00   42.0   58.0   76.0"
      ]
     },
     "execution_count": 7,
     "metadata": {},
     "output_type": "execute_result"
    }
   ],
   "source": [
    "print(\"-----------------------df_val---------------------------\")\n",
    "df_val.info()\n",
    "df_val.groupby('LQ Code').describe()"
   ]
  },
  {
   "cell_type": "code",
   "execution_count": 8,
   "metadata": {},
   "outputs": [
    {
     "name": "stdout",
     "output_type": "stream",
     "text": [
      "-----------------------df_test---------------------------\n",
      "<class 'pandas.core.frame.DataFrame'>\n",
      "RangeIndex: 30 entries, 0 to 29\n",
      "Data columns (total 8 columns):\n",
      " #   Column   Non-Null Count  Dtype \n",
      "---  ------   --------------  ----- \n",
      " 0   ID       30 non-null     int64 \n",
      " 1   Excerpt  30 non-null     object\n",
      " 2   SY1      30 non-null     object\n",
      " 3   SY2      28 non-null     object\n",
      " 4   CO1      30 non-null     object\n",
      " 5   CO2      28 non-null     object\n",
      " 6   LQ Code  30 non-null     object\n",
      " 7   Comment  14 non-null     object\n",
      "dtypes: int64(1), object(7)\n",
      "memory usage: 2.0+ KB\n"
     ]
    },
    {
     "data": {
      "text/html": [
       "<div>\n",
       "<style scoped>\n",
       "    .dataframe tbody tr th:only-of-type {\n",
       "        vertical-align: middle;\n",
       "    }\n",
       "\n",
       "    .dataframe tbody tr th {\n",
       "        vertical-align: top;\n",
       "    }\n",
       "\n",
       "    .dataframe thead tr th {\n",
       "        text-align: left;\n",
       "    }\n",
       "\n",
       "    .dataframe thead tr:last-of-type th {\n",
       "        text-align: right;\n",
       "    }\n",
       "</style>\n",
       "<table border=\"1\" class=\"dataframe\">\n",
       "  <thead>\n",
       "    <tr>\n",
       "      <th></th>\n",
       "      <th colspan=\"8\" halign=\"left\">ID</th>\n",
       "    </tr>\n",
       "    <tr>\n",
       "      <th></th>\n",
       "      <th>count</th>\n",
       "      <th>mean</th>\n",
       "      <th>std</th>\n",
       "      <th>min</th>\n",
       "      <th>25%</th>\n",
       "      <th>50%</th>\n",
       "      <th>75%</th>\n",
       "      <th>max</th>\n",
       "    </tr>\n",
       "    <tr>\n",
       "      <th>LQ Code</th>\n",
       "      <th></th>\n",
       "      <th></th>\n",
       "      <th></th>\n",
       "      <th></th>\n",
       "      <th></th>\n",
       "      <th></th>\n",
       "      <th></th>\n",
       "      <th></th>\n",
       "    </tr>\n",
       "  </thead>\n",
       "  <tbody>\n",
       "    <tr>\n",
       "      <th>AMB</th>\n",
       "      <td>14.0</td>\n",
       "      <td>107.5</td>\n",
       "      <td>4.183300</td>\n",
       "      <td>101.0</td>\n",
       "      <td>104.25</td>\n",
       "      <td>107.5</td>\n",
       "      <td>110.75</td>\n",
       "      <td>114.0</td>\n",
       "    </tr>\n",
       "    <tr>\n",
       "      <th>RDC</th>\n",
       "      <td>16.0</td>\n",
       "      <td>92.5</td>\n",
       "      <td>4.760952</td>\n",
       "      <td>85.0</td>\n",
       "      <td>88.75</td>\n",
       "      <td>92.5</td>\n",
       "      <td>96.25</td>\n",
       "      <td>100.0</td>\n",
       "    </tr>\n",
       "  </tbody>\n",
       "</table>\n",
       "</div>"
      ],
      "text/plain": [
       "           ID                                                      \n",
       "        count   mean       std    min     25%    50%     75%    max\n",
       "LQ Code                                                            \n",
       "AMB      14.0  107.5  4.183300  101.0  104.25  107.5  110.75  114.0\n",
       "RDC      16.0   92.5  4.760952   85.0   88.75   92.5   96.25  100.0"
      ]
     },
     "execution_count": 8,
     "metadata": {},
     "output_type": "execute_result"
    }
   ],
   "source": [
    "print(\"-----------------------df_test---------------------------\")\n",
    "df_test.info()\n",
    "df_test.groupby('LQ Code').describe()"
   ]
  },
  {
   "cell_type": "markdown",
   "metadata": {},
   "source": [
    "Constructor for the neural network object"
   ]
  },
  {
   "cell_type": "code",
   "execution_count": 9,
   "metadata": {},
   "outputs": [],
   "source": [
    "from torch import nn\n",
    "from transformers import BertModel\n",
    "\n",
    "class BertClassifier(nn.Module):\n",
    "\n",
    "    def __init__(self, dropout=0.5):\n",
    "\n",
    "        super(BertClassifier, self).__init__()\n",
    "\n",
    "        self.bert = BertModel.from_pretrained('bert-base-cased')\n",
    "        self.dropout = nn.Dropout(dropout)\n",
    "        self.linear = nn.Linear(768, 6)\n",
    "        self.relu = nn.ReLU()\n",
    "\n",
    "    def forward(self, input_id, mask):\n",
    "\n",
    "        _, pooled_output = self.bert(input_ids= input_id, attention_mask=mask,return_dict=False)\n",
    "        dropout_output = self.dropout(pooled_output)\n",
    "        linear_output = self.linear(dropout_output)\n",
    "        final_layer = self.relu(linear_output)\n",
    "\n",
    "        return final_layer\n"
   ]
  },
  {
   "cell_type": "markdown",
   "metadata": {},
   "source": [
    "Training loop of the model (read comments at the bottom of the code block!)"
   ]
  },
  {
   "cell_type": "code",
   "execution_count": 10,
   "metadata": {},
   "outputs": [
    {
     "name": "stderr",
     "output_type": "stream",
     "text": [
      "100%|██████████| 59/59 [07:49<00:00,  7.95s/it]\n"
     ]
    },
    {
     "name": "stdout",
     "output_type": "stream",
     "text": [
      "Epochs: 1 | Train Loss:  0.783                 | Train Accuracy:  0.453                 | Val Loss:  0.643                 | Val Accuracy:  0.667\n"
     ]
    }
   ],
   "source": [
    "from torch.optim import Adam\n",
    "from tqdm import tqdm\n",
    "import sklearn \n",
    "\n",
    "def train(model, train_data, val_data, learning_rate, epochs):\n",
    "\n",
    "    train, val = Dataset(train_data), Dataset(val_data)\n",
    "\n",
    "    train_dataloader = torch.utils.data.DataLoader(train, batch_size=2, shuffle=True)\n",
    "    val_dataloader = torch.utils.data.DataLoader(val, batch_size=2)\n",
    "\n",
    "    use_cuda = torch.cuda.is_available()\n",
    "    device = torch.device(\"cuda\" if use_cuda else \"cpu\")\n",
    "\n",
    "    criterion = nn.CrossEntropyLoss() # eddit the weigth parameter of the model to help with particular classes that are not being correctly predicted\n",
    "    optimizer = Adam(model.parameters(), lr= learning_rate, weight_decay=0.01) # edit weight_decay to help with overfitting\n",
    "\n",
    "    if use_cuda:\n",
    "\n",
    "            model = model.cuda()\n",
    "            criterion = criterion.cuda()\n",
    "\n",
    "    for epoch_num in range(epochs):\n",
    "\n",
    "            total_acc_train = 0\n",
    "            total_loss_train = 0\n",
    "\n",
    "            for train_input, train_label in tqdm(train_dataloader):\n",
    "\n",
    "                train_label = train_label.to(device)\n",
    "                mask = train_input['attention_mask'].to(device)\n",
    "                input_id = train_input['input_ids'].squeeze(1).to(device)\n",
    "\n",
    "                output = model(input_id, mask)\n",
    "                \n",
    "                batch_loss = criterion(output, train_label.long())\n",
    "                total_loss_train += batch_loss.item()\n",
    "                \n",
    "                acc = (output.argmax(dim=1) == train_label).sum().item()\n",
    "                total_acc_train += acc\n",
    "\n",
    "                model.zero_grad()\n",
    "                batch_loss.backward()\n",
    "                optimizer.step()\n",
    "            \n",
    "            total_acc_val = 0\n",
    "            total_loss_val = 0\n",
    "\n",
    "            with torch.no_grad():\n",
    "\n",
    "                for val_input, val_label in val_dataloader:\n",
    "\n",
    "                    val_label = val_label.to(device)\n",
    "                    mask = val_input['attention_mask'].to(device)\n",
    "                    input_id = val_input['input_ids'].squeeze(1).to(device)\n",
    "\n",
    "                    output = model(input_id, mask)\n",
    "\n",
    "                    batch_loss = criterion(output, val_label.long())\n",
    "                    total_loss_val += batch_loss.item()\n",
    "                    \n",
    "                    acc = (output.argmax(dim=1) == val_label).sum().item()\n",
    "                    total_acc_val += acc\n",
    "            \n",
    "            print(\n",
    "                f'Epochs: {epoch_num + 1} | Train Loss: {total_loss_train / len(train_data): .3f} \\\n",
    "                | Train Accuracy: {total_acc_train / len(train_data): .3f} \\\n",
    "                | Val Loss: {total_loss_val / len(val_data): .3f} \\\n",
    "                | Val Accuracy: {total_acc_val / len(val_data): .3f}')\n",
    "                  \n",
    "model = BertClassifier()\n",
    "EPOCHS = 1 # lower the epocs if you are using a cpu or are NOT using a gpu stronger than a 4090 (for reference it takes roughly 1 hour to train the model on an A6000)\n",
    "LR = 1e-5 # adjusting learning rate can help with accuracy \n",
    "\n",
    "train(model, df_train, df_val, LR, EPOCHS)"
   ]
  },
  {
   "cell_type": "markdown",
   "metadata": {},
   "source": [
    "Function to generate multilabel confusion matrix"
   ]
  },
  {
   "cell_type": "code",
   "execution_count": 11,
   "metadata": {},
   "outputs": [],
   "source": [
    "from sklearn.metrics import confusion_matrix\n",
    "import itertools \n",
    "import matplotlib.pyplot as plt\n",
    "\n",
    "\n",
    "def plot_confusion_matrix(cm, classes, normalize=False, title='Confusion matrix', cmap=plt.cm.Blues):\n",
    "    plt.imshow(cm, interpolation='nearest', cmap=cmap)\n",
    "    plt.title(title)\n",
    "    plt.colorbar()\n",
    "    tick_marks = np.arange(len(classes))\n",
    "    plt.xticks(tick_marks, classes, rotation=45)\n",
    "    plt.yticks(tick_marks, classes)\n",
    "\n",
    "    if normalize:\n",
    "        cm = cm.astype('float') / cm.sum(axis=1)[:, np.newaxis]\n",
    "        print(\"Normalized confusion matrix\")\n",
    "    else:\n",
    "        print('Confusion matrix, without normalization')\n",
    "    \n",
    "    # print(cm)\n",
    "\n",
    "    thresh = cm.max() / 2.\n",
    "    for i, j in itertools.product(range(cm.shape[0]), range(cm.shape[1])): \n",
    "        plt.text(j, i, cm[i, j], horizontalalignment=\"center\", color=\"white\" if cm[i, j] > thresh else \"black\")\n",
    "    \n",
    "    plt.tight_layout()\n",
    "    plt.ylabel('true label')\n",
    "    plt.xlabel('Predicted label')\n"
   ]
  },
  {
   "cell_type": "markdown",
   "metadata": {},
   "source": [
    "Testing loop for the model\n",
    "\n",
    "will show:\n",
    "\n",
    "- accuracy, precision, recall, and F1 scores of the model on the testing dataset\n",
    "\n",
    "- each sentence it predicted incorrectly along with the prediction it made instead\n",
    "\n",
    "- a multi-label confusion matrix to show how each class performed"
   ]
  },
  {
   "cell_type": "code",
   "execution_count": 12,
   "metadata": {},
   "outputs": [
    {
     "name": "stdout",
     "output_type": "stream",
     "text": [
      "AMB (true) -> RDC (pred): The system shall provide a secure login feature with two-factor authentication.\n",
      "AMB (true) -> RDC (pred): The application must ensure that user input is validated before processing.\n",
      "AMB (true) -> RDC (pred): The system should support multiple user roles and permissions.\n",
      "AMB (true) -> RDC (pred): The system should support real-time notifications for all user activities.\n",
      "AMB (true) -> RDC (pred): The software product needs to provide efficient data storage and retrieval mechanisms.\n",
      "AMB (true) -> RDC (pred): The application shall allow users to export data into various file formats.\n",
      "AMB (true) -> RDC (pred): The system should provide a seamless integration with third-party APIs.\n",
      "AMB (true) -> RDC (pred): The software must maintain consistency across all user interfaces.\n",
      "AMB (true) -> RDC (pred): The system should ensure data privacy and compliance with GDPR regulations.\n",
      "AMB (true) -> RDC (pred): The system shall provide user data access.\n",
      "AMB (true) -> RDC (pred): Notification messages must be clear.\n",
      "AMB (true) -> RDC (pred): User interface needs to be friendly.\n",
      "AMB (true) -> RDC (pred): Error logs should record all failures.\n",
      "Confusion matrix, without normalization\n"
     ]
    },
    {
     "data": {
      "text/plain": [
       "{'Accuracy:  0.567', 'F1 Score:  0.441', 'Percision:  0.761', 'Recall:  0.567'}"
      ]
     },
     "execution_count": 12,
     "metadata": {},
     "output_type": "execute_result"
    },
    {
     "data": {
      "image/png": "[encoded data removed]",
      "text/plain": [
       "<Figure size 640x480 with 2 Axes>"
      ]
     },
     "metadata": {},
     "output_type": "display_data"
    }
   ],
   "source": [
    "from pandas import DataFrame\n",
    "from sklearn.metrics import (\n",
    "    f1_score,\n",
    "    accuracy_score,\n",
    "    recall_score,\n",
    "    precision_score,\n",
    "    balanced_accuracy_score,\n",
    ")\n",
    "\n",
    "def evaluate(model, test_data: DataFrame):\n",
    "\n",
    "    test = Dataset(test_data)\n",
    "\n",
    "    test_dataloader = torch.utils.data.DataLoader(test, batch_size=2)\n",
    "\n",
    "    use_cuda = torch.cuda.is_available()\n",
    "    device = torch.device(\"cuda\" if use_cuda else \"cpu\")\n",
    "\n",
    "    if use_cuda:\n",
    "\n",
    "        model = model.cuda()\n",
    "\n",
    "    total_acc_test = 0\n",
    "    test_pred = []\n",
    "    test_true = []\n",
    "    test_class = test_data['LQ Code'].tolist()\n",
    "    test_sentence = test_data['Excerpt'].tolist()\n",
    "    test_pred_class = ['RDC','AMB']\n",
    "\n",
    "    with torch.no_grad():\n",
    "    \n",
    "        for test_input, test_label in test_dataloader:\n",
    "\n",
    "              test_label = test_label.to(device)\n",
    "              mask = test_input['attention_mask'].to(device)\n",
    "              input_id = test_input['input_ids'].squeeze(1).to(device)\n",
    "\n",
    "              output = model(input_id, mask)\n",
    "              _, predicted = torch.max(output.data, 1)\n",
    "              test_pred.extend(predicted.cpu().numpy())\n",
    "              test_true.extend(test_label.cpu().numpy())\n",
    "              acc = (output.argmax(dim=1) == test_label).sum().item()\n",
    "              total_acc_test += acc\n",
    "\n",
    "    for i in range(len(test_pred)):\n",
    "        if(test_true[i] != test_pred[i]):\n",
    "            print(test_class[i] + \" (true) -> \" + test_pred_class[test_pred[i]] + \" (pred): \" + test_sentence[i] )\n",
    "\n",
    "    cm = confusion_matrix(test_true, test_pred)\n",
    "    cm_plot_labels = ['RDC','AMB']\n",
    "    plot_confusion_matrix(cm, cm_plot_labels, title='Confusion Matrix')\n",
    "    # print(f'Test Accuracy: {total_acc_test / len(test_data): .3f}')\n",
    "    \n",
    "    return {f\"Accuracy: {total_acc_test / len(test_data): .3f}\",\n",
    "             f\"F1 Score: {f1_score(test_true, test_pred, average='weighted'): .3f}\", \n",
    "             f\"Percision: {precision_score(test_true, test_pred, average='weighted'): .3f}\",\n",
    "             f\"Recall: {recall_score(test_true, test_pred, average='weighted'): .3f}\"}\n",
    "    \n",
    "evaluate(model, df_test)"
   ]
  }
 ],
 "metadata": {
  "kernelspec": {
   "display_name": "mll",
   "language": "python",
   "name": "python3"
  },
  "language_info": {
   "codemirror_mode": {
    "name": "ipython",
    "version": 3
   },
   "file_extension": ".py",
   "mimetype": "text/x-python",
   "name": "python",
   "nbconvert_exporter": "python",
   "pygments_lexer": "ipython3",
   "version": "3.11.5"
  },
  "orig_nbformat": 4
 },
 "nbformat": 4,
 "nbformat_minor": 2
}
